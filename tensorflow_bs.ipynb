{
  "nbformat": 4,
  "nbformat_minor": 0,
  "metadata": {
    "colab": {
      "name": "tensorflow_bs.ipynb",
      "provenance": [],
      "collapsed_sections": [],
      "include_colab_link": true
    },
    "kernelspec": {
      "name": "python3",
      "display_name": "Python 3"
    }
  },
  "cells": [
    {
      "cell_type": "markdown",
      "metadata": {
        "id": "view-in-github",
        "colab_type": "text"
      },
      "source": [
        "<a href=\"https://colab.research.google.com/github/krishna225-k/Applied-Plotting-Charting-Data-Representation-in-Python/blob/master/tensorflow_bs.ipynb\" target=\"_parent\"><img src=\"https://colab.research.google.com/assets/colab-badge.svg\" alt=\"Open In Colab\"/></a>"
      ]
    },
    {
      "cell_type": "code",
      "metadata": {
        "id": "2sc1PHht0d1R",
        "colab_type": "code",
        "colab": {
          "base_uri": "https://localhost:8080/",
          "height": 34
        },
        "outputId": "48670c76-2d36-419b-cf16-54b8d77228cf"
      },
      "source": [
        "import tensorflow as tf\n",
        "!pip install -U tensorboardcolab\n",
        "from tensorboardcolab import *\n",
        "import shutil"
      ],
      "execution_count": 2,
      "outputs": [
        {
          "output_type": "stream",
          "text": [
            "Requirement already up-to-date: tensorboardcolab in /usr/local/lib/python3.6/dist-packages (0.0.22)\n"
          ],
          "name": "stdout"
        }
      ]
    },
    {
      "cell_type": "markdown",
      "metadata": {
        "id": "XC2ldCJU4MF9",
        "colab_type": "text"
      },
      "source": [
        "Remove the "
      ]
    },
    {
      "cell_type": "code",
      "metadata": {
        "id": "heRZ6Gkn1V0K",
        "colab_type": "code",
        "colab": {}
      },
      "source": [
        "shutil.rmtree('.Graph',ignore_errors=True)\n",
        "os.mkdir('./Graph1')"
      ],
      "execution_count": 0,
      "outputs": []
    },
    {
      "cell_type": "code",
      "metadata": {
        "id": "KiSnjh-31k_K",
        "colab_type": "code",
        "colab": {}
      },
      "source": [
        "tf.reset_default_graph()"
      ],
      "execution_count": 0,
      "outputs": []
    },
    {
      "cell_type": "code",
      "metadata": {
        "id": "lqhSdeSU18A4",
        "colab_type": "code",
        "colab": {
          "base_uri": "https://localhost:8080/",
          "height": 68
        },
        "outputId": "b5a38d01-86b6-4ca9-f7f6-c29816593f7e"
      },
      "source": [
        "tbc=TensorBoardColab()"
      ],
      "execution_count": 9,
      "outputs": [
        {
          "output_type": "stream",
          "text": [
            "Wait for 8 seconds...\n",
            "TensorBoard link:\n",
            "https://c82438f0.ngrok.io\n"
          ],
          "name": "stdout"
        }
      ]
    },
    {
      "cell_type": "code",
      "metadata": {
        "id": "OA-yNUHq2C_W",
        "colab_type": "code",
        "colab": {}
      },
      "source": [
        "#tensor flow basic operations\n",
        "#constants are entities who values can't change \n",
        "const_15 = tf.constant(15.0,name='constant_15.0')\n",
        "const_11 = tf.constant(11.0,name='constant_11.0')\n",
        "const_60 = tf.constant(60.0,name='constant_60')"
      ],
      "execution_count": 0,
      "outputs": []
    },
    {
      "cell_type": "code",
      "metadata": {
        "id": "CAh3zRCL2VWg",
        "colab_type": "code",
        "colab": {
          "base_uri": "https://localhost:8080/",
          "height": 136
        },
        "outputId": "9e94dfb5-bac7-4762-ec29-245ab7ea3104"
      },
      "source": [
        "#basic operations\n",
        "addition = tf.add(const_11,const_15,name = 'Adding_constants')\n",
        "Substraction = tf.subtract(const_15,const_11,name='Substraction_constants')\n",
        "Multiplication = tf.multiply(const_15,const_11,name='Mutlipy_constanst')\n",
        "Divison=tf.div(const_60,const_15,name='Division_constants')\n",
        "Total_sum = tf.add_n([addition,Substraction,Multiplication,Multiplication,Divison],name='Total')\n",
        "\n",
        "with tf.Session() as ses:\n",
        "    print('Addition',ses.run(addition))\n",
        "    print('Substraction',ses.run(Substraction))\n",
        "    print('Total_sum',ses.run(Total_sum))\n",
        "    print('Divison',ses.run(Divison))"
      ],
      "execution_count": 11,
      "outputs": [
        {
          "output_type": "stream",
          "text": [
            "WARNING:tensorflow:From <ipython-input-11-952a521c0e85>:4: div (from tensorflow.python.ops.math_ops) is deprecated and will be removed in a future version.\n",
            "Instructions for updating:\n",
            "Deprecated in favor of operator or tf.math.divide.\n",
            "Addition 26.0\n",
            "Substraction 4.0\n",
            "Total_sum 364.0\n",
            "Divison 4.0\n"
          ],
          "name": "stdout"
        }
      ]
    },
    {
      "cell_type": "code",
      "metadata": {
        "id": "DW4thi7B2cHn",
        "colab_type": "code",
        "colab": {}
      },
      "source": [
        "train_writer = tbc.get_writer()\n",
        "train_writer.add_graph(ses.graph)\n",
        "train_writer.flush()\n",
        "tbc.close()"
      ],
      "execution_count": 0,
      "outputs": []
    },
    {
      "cell_type": "code",
      "metadata": {
        "id": "9Irxlz3X3H5E",
        "colab_type": "code",
        "colab": {}
      },
      "source": [
        ""
      ],
      "execution_count": 0,
      "outputs": []
    }
  ]
}