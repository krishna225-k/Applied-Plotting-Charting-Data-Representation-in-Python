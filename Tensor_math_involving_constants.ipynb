{
  "nbformat": 4,
  "nbformat_minor": 0,
  "metadata": {
    "colab": {
      "name": "Tensor_math_involving constants.ipynb",
      "provenance": [],
      "include_colab_link": true
    },
    "kernelspec": {
      "name": "python3",
      "display_name": "Python 3"
    }
  },
  "cells": [
    {
      "cell_type": "markdown",
      "metadata": {
        "id": "view-in-github",
        "colab_type": "text"
      },
      "source": [
        "<a href=\"https://colab.research.google.com/github/krishna225-k/Applied-Plotting-Charting-Data-Representation-in-Python/blob/master/Tensor_math_involving_constants.ipynb\" target=\"_parent\"><img src=\"https://colab.research.google.com/assets/colab-badge.svg\" alt=\"Open In Colab\"/></a>"
      ]
    },
    {
      "cell_type": "code",
      "metadata": {
        "id": "LAK_K6FsWFmo",
        "colab_type": "code",
        "colab": {}
      },
      "source": [
        "#importing nessary libraris\n",
        "import numpy as np\n",
        "import tensorflow as tf\n",
        "from tensorboardcolab import *\n",
        "import shutil\n",
        "#a = tf.Cons"
      ],
      "execution_count": 0,
      "outputs": []
    },
    {
      "cell_type": "markdown",
      "metadata": {
        "id": "b-p39DvI3LLK",
        "colab_type": "text"
      },
      "source": [
        "Generate TensorBoardcolab for veiwing the computational graph node diagram "
      ]
    },
    {
      "cell_type": "code",
      "metadata": {
        "id": "-67kt4xj1HVZ",
        "colab_type": "code",
        "colab": {
          "base_uri": "https://localhost:8080/",
          "height": 68
        },
        "outputId": "f4c91759-ae4a-456c-9311-a5f77435a143"
      },
      "source": [
        " tbc = TensorBoardColab()"
      ],
      "execution_count": 28,
      "outputs": [
        {
          "output_type": "stream",
          "text": [
            "Wait for 8 seconds...\n",
            "TensorBoard link:\n",
            "https://65a5c7b8.ngrok.io\n"
          ],
          "name": "stdout"
        }
      ]
    },
    {
      "cell_type": "markdown",
      "metadata": {
        "id": "LgO7AIyU1CU7",
        "colab_type": "text"
      },
      "source": [
        "creating constants"
      ]
    },
    {
      "cell_type": "code",
      "metadata": {
        "id": "gt8uEg5QWr9Z",
        "colab_type": "code",
        "colab": {}
      },
      "source": [
        "a = tf.constant([20,30,40],name='a')\n",
        "b = tf.constant([10,20,30],name='b')"
      ],
      "execution_count": 0,
      "outputs": []
    },
    {
      "cell_type": "code",
      "metadata": {
        "id": "W6PmYhTTW5zd",
        "colab_type": "code",
        "colab": {}
      },
      "source": [
        "sum_of_a = tf.reduce_sum(a,name='sum_of_a')\n",
        "prod_of_b = tf.reduce_prod(b,name='product_of_b')"
      ],
      "execution_count": 0,
      "outputs": []
    },
    {
      "cell_type": "code",
      "metadata": {
        "id": "GCYsjqCOXk-s",
        "colab_type": "code",
        "colab": {}
      },
      "source": [
        "mean_tensors = tf.reduce_mean([sum_of_a,prod_of_b],name='mean_tensors')\n",
        "mul_tensors = tf.multiply(sum_of_a,prod_of_b,name='mul_tensors')"
      ],
      "execution_count": 0,
      "outputs": []
    },
    {
      "cell_type": "code",
      "metadata": {
        "id": "pdtX7uefYf9K",
        "colab_type": "code",
        "colab": {
          "base_uri": "https://localhost:8080/",
          "height": 119
        },
        "outputId": "ad8ebdd6-2c29-4ec4-fe29-fc3891339999"
      },
      "source": [
        "with tf.Session() as sess:\n",
        "  print('a:',sess.run(a))\n",
        "  print('b: ',sess.run(b))\n",
        "  print('Sum of A',sess.run(sum_of_a))\n",
        "  print('product of b',sess.run(prod_of_b))\n",
        "  print('mean of tensor a',sess.run(mean_tensors))\n",
        "  print('multiplication of tensors',sess.run(mul_tensors))"
      ],
      "execution_count": 32,
      "outputs": [
        {
          "output_type": "stream",
          "text": [
            "a: [20 30 40]\n",
            "b:  [10 20 30]\n",
            "Sum of A 90\n",
            "product of b 6000\n",
            "mean of tensor a 3045\n",
            "multiplication of tensors 540000\n"
          ],
          "name": "stdout"
        }
      ]
    },
    {
      "cell_type": "code",
      "metadata": {
        "id": "zcVchoXIY5fO",
        "colab_type": "code",
        "colab": {
          "base_uri": "https://localhost:8080/",
          "height": 34
        },
        "outputId": "1b21b634-cd38-4cd2-a71d-7b0e2541b44c"
      },
      "source": [
        "train_writer = tbc.get_writer()\n",
        "train_writer.add_graph(sess.graph)\n",
        "train_writer.flush()\n",
        "tbc.close"
      ],
      "execution_count": 33,
      "outputs": [
        {
          "output_type": "execute_result",
          "data": {
            "text/plain": [
              "<bound method TensorBoardColab.close of <tensorboardcolab.core.TensorBoardColab object at 0x7f1c40502fd0>>"
            ]
          },
          "metadata": {
            "tags": []
          },
          "execution_count": 33
        }
      ]
    },
    {
      "cell_type": "code",
      "metadata": {
        "id": "1MhxR9k82X0f",
        "colab_type": "code",
        "colab": {}
      },
      "source": [
        ""
      ],
      "execution_count": 0,
      "outputs": []
    }
  ]
}